{
 "cells": [
  {
   "cell_type": "code",
   "execution_count": 4,
   "metadata": {
    "collapsed": false
   },
   "outputs": [],
   "source": [
    "import pandas as pd\n",
    "import numpy as np\n",
    "from scipy.spatial import Voronoi, voronoi_plot_2d\n",
    "%matplotlib inline"
   ]
  },
  {
   "cell_type": "code",
   "execution_count": 5,
   "metadata": {
    "collapsed": false
   },
   "outputs": [],
   "source": [
    "# Credit: Savvas Tjortjoglou  http://savvastjortjoglou.com/nba-shot-sharts.html\n",
    "# Josh Shifman modified the above code in our coordinate sytems\n",
    "import matplotlib.pyplot as plt\n",
    "from matplotlib.patches import Circle, Rectangle, Arc, CirclePolygon\n",
    "# Credit: Savvas Tjortjoglou  http://savvastjortjoglou.com/nba-shot-sharts.html\n",
    "\n",
    "def draw_court(ax=None, color='black', lw=2, outer_lines=False):\n",
    "    \n",
    "\n",
    "    # If an axes object isn't provided to plot onto, just get current one\n",
    "    if ax is None:\n",
    "        ax = plt.gca()\n",
    "\n",
    "    # Create the various parts of an NBA basketball court\n",
    "\n",
    "    # Create the basketball hoop\n",
    "    # Diameter of a hoop is 18\" so it has a radius of 9\", which is a value\n",
    "    # 7.5 in our coordinate system\n",
    "    hoop = Circle((4, 25), radius=.75, linewidth=lw, color=color, fill=False)\n",
    "\n",
    "    # Create backboard\n",
    "    backboard = Rectangle((4, 22), -.5, 6, linewidth=lw, color=color)\n",
    "\n",
    "    # The paint\n",
    "    # Create the outer box 0f the paint, width=16ft, height=19ft\n",
    "    outer_box = Rectangle((0, 17), 18, 16, linewidth=lw, color=color,\n",
    "                          fill=False)\n",
    "    \n",
    "    # Create free throw top arc\n",
    "    top_free_throw = CirclePolygon((19, 25), radius=5.5, linewidth=lw, color=color, fill=False)\n",
    "    \n",
    "    # Three point line\n",
    "    # Create the side 3pt lines, they are 14ft long before they begin to arc\n",
    "    corner_three_a = Rectangle((0, 3), 14, 0, linewidth=lw,color=color)\n",
    "    corner_three_b = Rectangle((0, 47), 14, 0, linewidth=lw,color=color)\n",
    "    # 3pt arc - center of arc will be the hoop, arc is 23'9\" away from hoop\n",
    "    # I just played around with the theta values until they lined up with the \n",
    "    # threes\n",
    "    three_arc = Arc((4, 25), 47.5, 47.5, theta1=-68, theta2=68, linewidth=lw, color=color)\n",
    "\n",
    "\n",
    "    # List of the court elements to be plotted onto the axes\n",
    "    court_elements = [hoop, backboard, outer_box, top_free_throw, corner_three_a, corner_three_b, three_arc]\n",
    "\n",
    "    if outer_lines:\n",
    "        # Draw the half court line, baseline and side out bound lines\n",
    "        outer_lines = Rectangle((0,0), 50, 50, linewidth=lw,\n",
    "                                color=color, fill=False)\n",
    "        court_elements.append(outer_lines)\n",
    "\n",
    "    # Add the court elements onto the axes\n",
    "    for element in court_elements:\n",
    "        ax.add_patch(element)\n",
    "\n",
    "    return ax"
   ]
  },
  {
   "cell_type": "code",
   "execution_count": 3,
   "metadata": {
    "collapsed": false
   },
   "outputs": [],
   "source": [
    "# Testing draw court\n",
    "plt.figure()\n",
    "draw_court(outer_lines=True)\n",
    "plt.xlim(0,50)\n",
    "plt.ylim(0,50)\n",
    "plt.show() "
   ]
  },
  {
   "cell_type": "code",
   "execution_count": null,
   "metadata": {
    "collapsed": true
   },
   "outputs": [],
   "source": [
    "fn = \"./Data/Hackathon_sv_raw_playoff_2016.txt\"\n",
    "df = pd.read_csv(fn, sep=\" \")"
   ]
  },
  {
   "cell_type": "code",
   "execution_count": 535,
   "metadata": {
    "collapsed": false,
    "scrolled": false
   },
   "outputs": [],
   "source": [
    "# peek the data and drop nan\n",
    "df = df.dropna()\n",
    "# first game in playoff\n",
    "df = df[df.SV_Game_ID==2016041705]\n",
    "\n",
    "# final game in playoff\n",
    "# df[df.SV_Game_ID==2016061909]"
   ]
  },
  {
   "cell_type": "code",
   "execution_count": 7,
   "metadata": {
    "collapsed": true
   },
   "outputs": [],
   "source": [
    "# faster loading\n",
    "# df[df.SV_Game_ID==2016041705].to_csv(\"./Data/first_game.csv\")\n",
    "df = pd.read_csv(\"./Data/first_game.csv\")\n",
    "\n",
    "\n",
    "# peek the data and drop nan\n",
    "df = df.dropna()\n",
    "# first game in playoff\n",
    "df = df[df.SV_Game_ID==2016041705]"
   ]
  },
  {
   "cell_type": "code",
   "execution_count": 9,
   "metadata": {
    "collapsed": false
   },
   "outputs": [],
   "source": [
    "# only look at time frames where everybody is in the same half court\n",
    "lst = []\n",
    "for row in (range(len(df))):\n",
    "    all_in_same = True\n",
    "    smaller_half = (df.iloc[row][\"P1X\"] > 47)\n",
    "    for j in range(2,11):\n",
    "        if (df.iloc[row][\"P{}X\".format(j)] > 47) != smaller_half:\n",
    "            all_in_same = False\n",
    "            break\n",
    "    if all_in_same:\n",
    "        lst.append(row)"
   ]
  },
  {
   "cell_type": "code",
   "execution_count": 35,
   "metadata": {
    "collapsed": false
   },
   "outputs": [],
   "source": [
    "# pick a particular frame\n",
    "df_frame = df.iloc[200]\n",
    "\n",
    "# get the team id\n",
    "teams = [int(np.unique(df.Player1Team)[0]), int(np.unique(df.Player1Team)[1])]\n",
    "teams = sorted(teams)\n",
    "\n",
    "def get_frame_data(df_frame, teams):\n",
    "    '''\n",
    "    convert dataframe into our data structure\n",
    "    '''\n",
    "    from scipy.spatial import Voronoi, voronoi_plot_2d\n",
    "    frame_data = {teams[0]:[], teams[1]:[]}\n",
    "    for i in range(1,11):\n",
    "        # reduce to half court\n",
    "        tmp_x = df_frame['P{}X'.format(i)]\n",
    "        if tmp_x > 47:\n",
    "            tmp_x = 94 - tmp_x\n",
    "        tmp_pos = (tmp_x, df_frame['P{}Y'.format(i)], df_frame['Player{}'.format(i)],)\n",
    "        frame_data[int(df_frame[\"Player{}Team\".format(i)])].append(tmp_pos)\n",
    "\n",
    "    for key in frame_data:\n",
    "        frame_data[key] = sorted(frame_data[key], key=lambda x: x[-1])\n",
    "\n",
    "    frame_data['ball'] = [df_frame[\"BX\"], df_frame[\"YB\"], ]\n",
    "    return frame_data\n",
    "\n",
    "frame_data = get_frame_data(df_frame, teams)"
   ]
  },
  {
   "cell_type": "code",
   "execution_count": 36,
   "metadata": {
    "collapsed": false
   },
   "outputs": [
    {
     "data": {
      "text/plain": [
       "{1610612739: [(27.244209999999995, 21.841650000000001, 'JR Smith'),\n",
       "  (22.836299999999994, 31.08728, 'Kevin Love'),\n",
       "  (26.986599999999996, 31.813359999999999, 'Kyrie Irving'),\n",
       "  (32.179530000000007, 32.810590000000005, 'LeBron James'),\n",
       "  (21.596999999999994, 14.909750000000001, 'Tristan Thompson')],\n",
       " 1610612765: [(29.796779999999998, 20.69735, 'Andre Drummond'),\n",
       "  (19.47587, 9.6649700000000003, 'Kentavious Caldwell-Pope'),\n",
       "  (27.467219999999998, 41.609169999999999, 'Marcus Morris'),\n",
       "  (22.829630000000002, 32.7211, 'Reggie Jackson'),\n",
       "  (41.690950000000001, 35.109830000000002, 'Tobias Harris')],\n",
       " 'ball': [22.9618, 32.191220000000001]}"
      ]
     },
     "execution_count": 36,
     "metadata": {},
     "output_type": "execute_result"
    }
   ],
   "source": [
    "frame_data"
   ]
  },
  {
   "cell_type": "code",
   "execution_count": 37,
   "metadata": {
    "collapsed": false
   },
   "outputs": [],
   "source": [
    "def ds2points(frame_data, teams):\n",
    "    '''\n",
    "    define a function for converting my data structure to raw data points\n",
    "    '''\n",
    "\n",
    "    points = np.zeros((10, 2))\n",
    "    for i,team in enumerate(teams):\n",
    "        for j in range(5):\n",
    "            points[5*i+j,0] = frame_data[team][j][0]\n",
    "            points[5*i+j,1] = frame_data[team][j][1]\n",
    "    return points\n",
    "\n",
    "points = ds2points(frame_data, teams)"
   ]
  },
  {
   "cell_type": "code",
   "execution_count": 38,
   "metadata": {
    "collapsed": false
   },
   "outputs": [
    {
     "data": {
      "text/plain": [
       "array([[ 27.24421,  21.84165],\n",
       "       [ 22.8363 ,  31.08728],\n",
       "       [ 26.9866 ,  31.81336],\n",
       "       [ 32.17953,  32.81059],\n",
       "       [ 21.597  ,  14.90975],\n",
       "       [ 29.79678,  20.69735],\n",
       "       [ 19.47587,   9.66497],\n",
       "       [ 27.46722,  41.60917],\n",
       "       [ 22.82963,  32.7211 ],\n",
       "       [ 41.69095,  35.10983]])"
      ]
     },
     "execution_count": 38,
     "metadata": {},
     "output_type": "execute_result"
    }
   ],
   "source": [
    "points"
   ]
  },
  {
   "cell_type": "markdown",
   "metadata": {},
   "source": [
    "# Voronoi Shit"
   ]
  },
  {
   "cell_type": "code",
   "execution_count": 39,
   "metadata": {
    "collapsed": true
   },
   "outputs": [],
   "source": [
    "# points = np.array([[0, 0], [0, 1], [0, 2], [1, 0], [1, 1], [1, 2], [2, 0], [2, 1], [2, 2]])\n",
    "from scipy.spatial import Voronoi, voronoi_plot_2d\n",
    "vor = Voronoi(points)"
   ]
  },
  {
   "cell_type": "code",
   "execution_count": 40,
   "metadata": {
    "collapsed": false
   },
   "outputs": [
    {
     "data": {
      "image/png": "[encoded data removed]",
      "text/plain": [
       "<matplotlib.figure.Figure at 0x10bb8add8>"
      ]
     },
     "metadata": {},
     "output_type": "display_data"
    }
   ],
   "source": [
    "%matplotlib inline\n",
    "import matplotlib.pyplot as plt\n",
    "voronoi_plot_2d(vor)\n",
    "plt.show()"
   ]
  },
  {
   "cell_type": "code",
   "execution_count": 41,
   "metadata": {
    "collapsed": false
   },
   "outputs": [
    {
     "data": {
      "text/plain": [
       "array([ 7,  8,  5,  6,  2,  1,  4, 10,  9,  0])"
      ]
     },
     "execution_count": 41,
     "metadata": {},
     "output_type": "execute_result"
    }
   ],
   "source": [
    "# input a position and we'll tell you which idx of domain it belongs to \n",
    "vor.point_region"
   ]
  },
  {
   "cell_type": "markdown",
   "metadata": {
    "collapsed": true
   },
   "source": [
    "# import Chavis spot values"
   ]
  },
  {
   "cell_type": "code",
   "execution_count": 42,
   "metadata": {
    "collapsed": false
   },
   "outputs": [
    {
     "ename": "SyntaxError",
     "evalue": "Missing parentheses in call to 'print' (generate_spot_values.py, line 141)",
     "output_type": "error",
     "traceback": [
      "\u001b[0;36m  File \u001b[0;32m\"/Users/Chengyu/GitHub/Kaggle/MDST/NBA/generate_spot_values.py\"\u001b[0;36m, line \u001b[0;32m141\u001b[0m\n\u001b[0;31m    print m\u001b[0m\n\u001b[0m          ^\u001b[0m\n\u001b[0;31mSyntaxError\u001b[0m\u001b[0;31m:\u001b[0m Missing parentheses in call to 'print'\n"
     ]
    }
   ],
   "source": [
    "import generate_spot_values as gen\n",
    "from itertools import product\n",
    "players = [frame_data[team][j][2] for team,j in product(teams, range(5))]\n",
    "players"
   ]
  },
  {
   "cell_type": "code",
   "execution_count": 43,
   "metadata": {
    "collapsed": true
   },
   "outputs": [],
   "source": [
    "weight_func = lambda x: 1.0 / (1.0 + x)"
   ]
  },
  {
   "cell_type": "code",
   "execution_count": 47,
   "metadata": {
    "collapsed": false
   },
   "outputs": [],
   "source": [
    "from scipy.spatial import cKDTree\n",
    "from functools import reduce\n",
    "import generate_spot_values_backup as gen\n",
    "# important!! get the consistent order for the players names\n",
    "players = []\n",
    "for team in teams:\n",
    "    for i in range(5):\n",
    "        players.append(frame_data[team][i][2])\n",
    "\n",
    "def get_all_value(players, points, teams, frame_data):\n",
    "    '''\n",
    "    calculate every player's land value given the current frame's players' positions\n",
    "    '''\n",
    "    grid_centers, grid_vals = gen.get_midpoints_and_values()\n",
    "    # calculate original land values\n",
    "    player_value_orig_lst = {}\n",
    "    vor_points = ds2points(frame_data, teams)\n",
    "    kdtree_orig = cKDTree(points)\n",
    "    for player in players:\n",
    "        player_value_orig_lst[player] = []\n",
    "\n",
    "    for i in range(10):\n",
    "        for j in range(10):\n",
    "            center = grid_centers[i][j]\n",
    "            test_point_dist, test_point_regions = kdtree_orig.query(np.array(center).reshape((1,2)), k=1)\n",
    "            player = players[test_point_regions]\n",
    "            player_value_orig_lst[player].append((i,j,test_point_dist[0]))\n",
    "\n",
    "    player_val_orig = {}\n",
    "    for player in players:\n",
    "        player_val_orig[player] = 0\n",
    "\n",
    "    for player in players:\n",
    "        for spot_i, spot_j, spot_dist in player_value_orig_lst[player]:\n",
    "            player_val_orig[player] += weight_func(spot_dist) * grid_vals[spot_i][spot_i]\n",
    "            \n",
    "    return player_val_orig       "
   ]
  },
  {
   "cell_type": "code",
   "execution_count": null,
   "metadata": {
    "collapsed": true
   },
   "outputs": [],
   "source": []
  },
  {
   "cell_type": "code",
   "execution_count": 48,
   "metadata": {
    "collapsed": false
   },
   "outputs": [
    {
     "name": "stderr",
     "output_type": "stream",
     "text": [
      "/Users/Chengyu/anaconda3/envs/python34/lib/python3.4/site-packages/ipykernel/__main__.py:26: VisibleDeprecationWarning: converting an array with ndim > 0 to an index will result in an error in the future\n"
     ]
    },
    {
     "data": {
      "text/plain": [
       "{'Andre Drummond': 50.463260369823011,\n",
       " 'JR Smith': 30.096063883525218,\n",
       " 'Kentavious Caldwell-Pope': 85.22224634241141,\n",
       " 'Kevin Love': 22.204632255322768,\n",
       " 'Kyrie Irving': 28.876219925639127,\n",
       " 'LeBron James': 54.014775928875331,\n",
       " 'Marcus Morris': 72.465922611028475,\n",
       " 'Reggie Jackson': 72.224451215664729,\n",
       " 'Tobias Harris': 32.562601700645125,\n",
       " 'Tristan Thompson': 52.989019085546246}"
      ]
     },
     "execution_count": 48,
     "metadata": {},
     "output_type": "execute_result"
    }
   ],
   "source": [
    "player_val_orig = get_all_value(players, points, teams, frame_data)\n",
    "player_val_orig"
   ]
  },
  {
   "cell_type": "code",
   "execution_count": 49,
   "metadata": {
    "collapsed": true
   },
   "outputs": [],
   "source": [
    "# a function to return the team of a player:\n",
    "def get_player_team(player, teams, frame_data):\n",
    "    for team in teams:\n",
    "        for i in range(len(frame_data[team])):\n",
    "#             print(frame_data[team][i][2])\n",
    "            if frame_data[team][i][2] == player:\n",
    "                return team\n",
    "            \n",
    "def get_other_team(player, teams, frame_data):\n",
    "    player_team = get_player_team(player, teams, frame_data)\n",
    "    return [t for t in teams if t!=player_team][0]"
   ]
  },
  {
   "cell_type": "markdown",
   "metadata": {},
   "source": [
    "# Metric 1: the Diff in total offensive team land values if the player is not on court\n",
    "# exciting part, leave one player out of the court and test reduction in the other team's land value!"
   ]
  },
  {
   "cell_type": "code",
   "execution_count": 50,
   "metadata": {
    "collapsed": false
   },
   "outputs": [],
   "source": [
    "# leave one out\n",
    "\n",
    "out_player = \"Andre Drummond\"\n",
    "out_player_idx = players.index(out_player)\n",
    "\n",
    "team_4 = get_player_team(out_player, teams, frame_data)\n",
    "team_5 = get_other_team(out_player, teams, frame_data)\n",
    "\n",
    "# print(out_player_idx)\n",
    "# print(team_4, team_5)\n",
    "# print(teams)"
   ]
  },
  {
   "cell_type": "code",
   "execution_count": 51,
   "metadata": {
    "collapsed": false
   },
   "outputs": [
    {
     "data": {
      "text/plain": [
       "['JR Smith',\n",
       " 'Kevin Love',\n",
       " 'Kyrie Irving',\n",
       " 'LeBron James',\n",
       " 'Tristan Thompson',\n",
       " 'Andre Drummond',\n",
       " 'Kentavious Caldwell-Pope',\n",
       " 'Marcus Morris',\n",
       " 'Reggie Jackson',\n",
       " 'Tobias Harris']"
      ]
     },
     "execution_count": 51,
     "metadata": {},
     "output_type": "execute_result"
    }
   ],
   "source": [
    "players"
   ]
  },
  {
   "cell_type": "code",
   "execution_count": 52,
   "metadata": {
    "collapsed": true
   },
   "outputs": [],
   "source": [
    "from scipy.spatial import cKDTree\n",
    "from functools import reduce\n",
    "\n",
    "# get the leave one out player score\n",
    "\n",
    "def get_leave1out_value(players, points, teams, frame_data, out_index):\n",
    "    '''\n",
    "    calculate every other player's land value leaving one player out of the court\n",
    "    '''\n",
    "    ##### modified from the all value funtion\n",
    "    points = points[[x for x in range(10) if x!=out_index],:]\n",
    "    grid_centers, grid_vals = gen.get_midpoints_and_values()\n",
    "    # calculate original land values\n",
    "    player_value_orig_lst = {}\n",
    "    vor_points = ds2points(frame_data, teams)\n",
    "    kdtree_orig = cKDTree(points)\n",
    "    for player in players:\n",
    "        player_value_orig_lst[player] = []\n",
    "\n",
    "    for i in range(10):\n",
    "        for j in range(10):\n",
    "            center = grid_centers[i][j]\n",
    "            test_point_dist, test_point_regions = kdtree_orig.query(np.array(center).reshape((1,2)), k=1)\n",
    "            \n",
    "            ##### modified from the all value funtion\n",
    "            if test_point_regions >= out_index:\n",
    "                test_point_regions += 1\n",
    "            player = players[test_point_regions]\n",
    "            \n",
    "            player_value_orig_lst[player].append((i,j,test_point_dist[0]))\n",
    "\n",
    "    player_val_orig = {}\n",
    "    for player in players:\n",
    "        player_val_orig[player] = 0\n",
    "\n",
    "    for player in players:\n",
    "        for spot_i, spot_j, spot_dist in player_value_orig_lst[player]:\n",
    "            player_val_orig[player] += weight_func(spot_dist) * grid_vals[spot_i][spot_i]\n",
    "    \n",
    "#     print(players)\n",
    "    out_player = players[out_index]\n",
    "    player_val_orig[out_player] = 0\n",
    "    \n",
    "    return player_val_orig       "
   ]
  },
  {
   "cell_type": "code",
   "execution_count": 53,
   "metadata": {
    "collapsed": true
   },
   "outputs": [],
   "source": [
    "def value_of_player(players, points, teams, frame_data, out_player):\n",
    "    '''\n",
    "    value of the player is how important he is on court than if he is not\n",
    "    calculate the team's total land values in two cases and subtract to get it\n",
    "    '''\n",
    "    if type(out_player) == str:\n",
    "        out_index = players.index(out_player)\n",
    "    else:\n",
    "        raise Exception()\n",
    "        \n",
    "    player2team = {}\n",
    "    for player in players:\n",
    "        player2team[player] = get_player_team(player, teams, frame_data)\n",
    "\n",
    "    team4 = get_player_team(out_player, teams, frame_data)\n",
    "    team5 = get_other_team(out_player, teams, frame_data)\n",
    "    val_orig = get_all_value(players, points, teams, frame_data)\n",
    "    val_out  = get_leave1out_value(players, points, teams, frame_data, out_index)\n",
    "    \n",
    "    val_team_orig = {}\n",
    "    val_team_out = {}\n",
    "    for player in val_orig:\n",
    "        his_team = player2team[player]\n",
    "        if his_team not in val_team_orig:\n",
    "            val_team_orig[his_team] = val_orig[player]\n",
    "        else:\n",
    "            val_team_orig[his_team] += val_orig[player]\n",
    "\n",
    "    for player in val_out:\n",
    "        his_team = player2team[player]\n",
    "        if his_team not in val_team_out:\n",
    "            val_team_out[his_team] = val_out[player]\n",
    "        else:\n",
    "            val_team_out[his_team] += val_out[player]\n",
    "#     print(team5)\n",
    "#     print(val_team_orig)\n",
    "    result = {\"team4\":val_team_out[team4] - val_team_orig[team4],\n",
    "              \"team5\":val_team_out[team5] - val_team_orig[team5],\n",
    "             }\n",
    "    return result\n"
   ]
  },
  {
   "cell_type": "code",
   "execution_count": 54,
   "metadata": {
    "collapsed": false
   },
   "outputs": [
    {
     "name": "stderr",
     "output_type": "stream",
     "text": [
      "/Users/Chengyu/anaconda3/envs/python34/lib/python3.4/site-packages/ipykernel/__main__.py:28: VisibleDeprecationWarning: converting an array with ndim > 0 to an index will result in an error in the future\n"
     ]
    },
    {
     "data": {
      "text/plain": [
       "{'Andre Drummond': 0,\n",
       " 'JR Smith': 66.54104265125163,\n",
       " 'Kentavious Caldwell-Pope': 85.648316762260322,\n",
       " 'Kevin Love': 22.204632255322768,\n",
       " 'Kyrie Irving': 28.876219925639127,\n",
       " 'LeBron James': 54.014775928875331,\n",
       " 'Marcus Morris': 72.465922611028475,\n",
       " 'Reggie Jackson': 72.224451215664729,\n",
       " 'Tobias Harris': 33.330131132993756,\n",
       " 'Tristan Thompson': 54.633710763524292}"
      ]
     },
     "execution_count": 54,
     "metadata": {},
     "output_type": "execute_result"
    }
   ],
   "source": [
    "# get_all_value(players, points, teams, frame_data)\n",
    "get_leave1out_value(players, points, teams, frame_data, 5)"
   ]
  },
  {
   "cell_type": "code",
   "execution_count": 55,
   "metadata": {
    "collapsed": false
   },
   "outputs": [
    {
     "name": "stderr",
     "output_type": "stream",
     "text": [
      "/Users/Chengyu/anaconda3/envs/python34/lib/python3.4/site-packages/ipykernel/__main__.py:26: VisibleDeprecationWarning: converting an array with ndim > 0 to an index will result in an error in the future\n",
      "/Users/Chengyu/anaconda3/envs/python34/lib/python3.4/site-packages/ipykernel/__main__.py:28: VisibleDeprecationWarning: converting an array with ndim > 0 to an index will result in an error in the future\n"
     ]
    },
    {
     "data": {
      "text/plain": [
       "{'Andre Drummond': 87.35933096332991,\n",
       " 'JR Smith': 44.852876750241364,\n",
       " 'Kentavious Caldwell-Pope': 144.33394134039537,\n",
       " 'Kevin Love': 41.278024142856282,\n",
       " 'Kyrie Irving': 29.916419944292102,\n",
       " 'LeBron James': 50.071120461660115,\n",
       " 'Marcus Morris': 74.255366246042229,\n",
       " 'Reggie Jackson': 119.96527615358934,\n",
       " 'Tobias Harris': 42.337033863810461,\n",
       " 'Tristan Thompson': 69.180604698629082}"
      ]
     },
     "execution_count": 55,
     "metadata": {},
     "output_type": "execute_result"
    }
   ],
   "source": [
    "value_of_player(players, points, teams, frame_data, \"Marcus Morris\")\n",
    "frame_result = {}\n",
    "for player in players:\n",
    "    val = value_of_player(players, points, teams, frame_data, player)\n",
    "    frame_result[player] = np.abs(val['team4']) + np.abs(val['team5'])\n",
    "\n",
    "frame_result"
   ]
  },
  {
   "cell_type": "code",
   "execution_count": 56,
   "metadata": {
    "collapsed": false
   },
   "outputs": [
    {
     "name": "stdout",
     "output_type": "stream",
     "text": [
      "{1610612739: 'r', 1610612765: 'b'}\n",
      "['r', 'r', 'r', 'r', 'r', 'b', 'b', 'b', 'b', 'b']\n"
     ]
    },
    {
     "data": {
      "image/png": "[encoded data removed]",
      "text/plain": [
       "<matplotlib.figure.Figure at 0x116220b00>"
      ]
     },
     "metadata": {},
     "output_type": "display_data"
    }
   ],
   "source": [
    "%matplotlib inline\n",
    "import matplotlib.pyplot as plt\n",
    "vor = Voronoi(points)\n",
    "voronoi_plot_2d(vor, show_vertices=0)\n",
    "\n",
    "size_circ = []\n",
    "color_circ = []\n",
    "team2color = {}\n",
    "flag = False\n",
    "for team in teams:\n",
    "    team2color[team] = 'r' if not flag else 'b'\n",
    "    flag = True\n",
    "    \n",
    "print(team2color)\n",
    "\n",
    "for i in range(10):\n",
    "    player = players[i]\n",
    "    val = frame_result[player]\n",
    "    size_circ.append(val)\n",
    "    color_circ.append(team2color[get_player_team(player, teams, frame_data)])\n",
    "    \n",
    "size_circ = [x*10 for x in size_circ]\n",
    "print(color_circ)\n",
    "\n",
    "\n",
    "\n",
    "# plt.figure()\n",
    "draw_court(color='#ffdd99',outer_lines=True)\n",
    "plt.xlim(0,50)\n",
    "plt.ylim(0,50)\n",
    "# plt.show() \n",
    "\n",
    "\n",
    "import matplotlib.pyplot as plt\n",
    "plt.scatter(points[:,0], points[:,1], s=size_circ, c=color_circ, alpha=0.25)\n",
    "plt.xlim(0, 50)\n",
    "plt.ylim(0, 50)\n",
    "plt.gcf().set_size_inches(10, 10, forward=True)\n",
    "plt.show()"
   ]
  },
  {
   "cell_type": "code",
   "execution_count": 57,
   "metadata": {
    "collapsed": false
   },
   "outputs": [
    {
     "name": "stdout",
     "output_type": "stream",
     "text": [
      "{1610612739: 'r', 1610612765: 'b'}\n"
     ]
    },
    {
     "data": {
      "image/png": "[encoded data removed]",
      "text/plain": [
       "<matplotlib.figure.Figure at 0x1147be278>"
      ]
     },
     "metadata": {},
     "output_type": "display_data"
    }
   ],
   "source": [
    "out_player = \"Kevin Love\"\n",
    "out_index = players.index(out_player)\n",
    "out_points = points[[x for x in range(10) if x!=out_index],:]\n",
    "\n",
    "%matplotlib inline\n",
    "import matplotlib.pyplot as plt\n",
    "vor = Voronoi(out_points)\n",
    "voronoi_plot_2d(vor, show_vertices=0)\n",
    "size_circ = []\n",
    "color_circ = []\n",
    "team2color = {}\n",
    "\n",
    "flag = False\n",
    "for team in teams:\n",
    "    team2color[team] = 'r' if not flag else 'b'\n",
    "    flag = True\n",
    "    \n",
    "print(team2color)\n",
    "\n",
    "for i in range(10):\n",
    "    player = players[i]\n",
    "    val = frame_result[player]\n",
    "    size_circ.append(val)\n",
    "    color_circ.append(team2color[get_player_team(player, teams, frame_data)])\n",
    "    \n",
    "del size_circ[out_index]\n",
    "del color_circ[out_index]\n",
    "    \n",
    "    \n",
    "draw_court(color='#ffdd99',outer_lines=True)\n",
    "plt.xlim(0,50)\n",
    "plt.ylim(0,50)\n",
    "# plt.show() \n",
    "    \n",
    "    \n",
    "size_circ = [x*10 for x in size_circ]\n",
    "import matplotlib.pyplot as plt\n",
    "plt.scatter(out_points[:,0],out_points[:,1],s=size_circ,c=color_circ,alpha=0.25)\n",
    "plt.xlim(0, 50)\n",
    "plt.ylim(0, 50)\n",
    "plt.gcf().set_size_inches(10, 10, forward=True)\n",
    "\n",
    "plt.show()"
   ]
  },
  {
   "cell_type": "code",
   "execution_count": 58,
   "metadata": {
    "collapsed": false
   },
   "outputs": [],
   "source": [
    "# take 100 samples in time slices\n",
    "\n",
    "N_sampels = 300\n",
    "sample_rows = np.random.randint(0,len(df)-1,size=(N_sampels))"
   ]
  },
  {
   "cell_type": "code",
   "execution_count": 60,
   "metadata": {
    "collapsed": false
   },
   "outputs": [
    {
     "ename": "IndexError",
     "evalue": "list index out of range",
     "output_type": "error",
     "traceback": [
      "\u001b[0;31m---------------------------------------------------------------------------\u001b[0m",
      "\u001b[0;31mIndexError\u001b[0m                                Traceback (most recent call last)",
      "\u001b[0;32m<ipython-input-60-2c5e18575c43>\u001b[0m in \u001b[0;36m<module>\u001b[0;34m()\u001b[0m\n\u001b[1;32m      7\u001b[0m     \u001b[0mgame_score_player\u001b[0m\u001b[0;34m[\u001b[0m\u001b[0mplayer\u001b[0m\u001b[0;34m]\u001b[0m \u001b[0;34m=\u001b[0m \u001b[0;36m0\u001b[0m\u001b[0;34m\u001b[0m\u001b[0m\n\u001b[1;32m      8\u001b[0m     \u001b[0;32mfor\u001b[0m \u001b[0mi\u001b[0m \u001b[0;32min\u001b[0m \u001b[0mrange\u001b[0m\u001b[0;34m(\u001b[0m\u001b[0mN_sampels\u001b[0m\u001b[0;34m)\u001b[0m\u001b[0;34m:\u001b[0m\u001b[0;34m\u001b[0m\u001b[0m\n\u001b[0;32m----> 9\u001b[0;31m         \u001b[0mgame_stat_player\u001b[0m\u001b[0;34m[\u001b[0m\u001b[0mplayer\u001b[0m\u001b[0;34m]\u001b[0m\u001b[0;34m.\u001b[0m\u001b[0mappend\u001b[0m\u001b[0;34m(\u001b[0m\u001b[0mgame_stat\u001b[0m\u001b[0;34m[\u001b[0m\u001b[0mi\u001b[0m\u001b[0;34m]\u001b[0m\u001b[0;34m[\u001b[0m\u001b[0mplayer\u001b[0m\u001b[0;34m]\u001b[0m\u001b[0;34m)\u001b[0m\u001b[0;34m\u001b[0m\u001b[0m\n\u001b[0m\u001b[1;32m     10\u001b[0m         \u001b[0mgame_score_player\u001b[0m\u001b[0;34m[\u001b[0m\u001b[0mplayer\u001b[0m\u001b[0;34m]\u001b[0m \u001b[0;34m+=\u001b[0m \u001b[0mgame_stat\u001b[0m\u001b[0;34m[\u001b[0m\u001b[0mi\u001b[0m\u001b[0;34m]\u001b[0m\u001b[0;34m[\u001b[0m\u001b[0mplayer\u001b[0m\u001b[0;34m]\u001b[0m\u001b[0;34m\u001b[0m\u001b[0m\n",
      "\u001b[0;31mIndexError\u001b[0m: list index out of range"
     ]
    }
   ],
   "source": [
    "# sum over all the values of the player\n",
    "\n",
    "game_stat_player = {}\n",
    "game_score_player = {}\n",
    "for player in players:\n",
    "    game_stat_player[player] = []\n",
    "    game_score_player[player] = 0\n",
    "    for i in range(N_sampels):\n",
    "        game_stat_player[player].append(game_stat[i][player])        \n",
    "        game_score_player[player] += game_stat[i][player]"
   ]
  },
  {
   "cell_type": "code",
   "execution_count": 578,
   "metadata": {
    "collapsed": false
   },
   "outputs": [
    {
     "data": {
      "image/png": "[encoded data removed]",
      "text/plain": [
       "<matplotlib.figure.Figure at 0x232698b00>"
      ]
     },
     "metadata": {},
     "output_type": "display_data"
    }
   ],
   "source": [
    "for player in players:\n",
    "    pd.Series(game_stat_player[player]).hist(bins=20)"
   ]
  },
  {
   "cell_type": "code",
   "execution_count": 598,
   "metadata": {
    "collapsed": false
   },
   "outputs": [
    {
     "data": {
      "text/plain": [
       "<matplotlib.axes._subplots.AxesSubplot at 0x17622fc88>"
      ]
     },
     "execution_count": 598,
     "metadata": {},
     "output_type": "execute_result"
    },
    {
     "data": {
      "image/png": "[encoded data removed]",
      "text/plain": [
       "<matplotlib.figure.Figure at 0x17622f4a8>"
      ]
     },
     "metadata": {},
     "output_type": "display_data"
    }
   ],
   "source": [
    "pd.Series(game_stat_player[\"Andre Drummond\"]).hist(bins=20)"
   ]
  },
  {
   "cell_type": "code",
   "execution_count": 580,
   "metadata": {
    "collapsed": false
   },
   "outputs": [
    {
     "data": {
      "text/plain": [
       "<matplotlib.axes._subplots.AxesSubplot at 0x22510b128>"
      ]
     },
     "execution_count": 580,
     "metadata": {},
     "output_type": "execute_result"
    },
    {
     "data": {
      "image/png": "[encoded data removed]",
      "text/plain": [
       "<matplotlib.figure.Figure at 0x126852940>"
      ]
     },
     "metadata": {},
     "output_type": "display_data"
    }
   ],
   "source": [
    "pd.Series(game_stat_player[\"LeBron James\"]).hist(bins=20)"
   ]
  },
  {
   "cell_type": "code",
   "execution_count": 581,
   "metadata": {
    "collapsed": false
   },
   "outputs": [
    {
     "data": {
      "text/plain": [
       "{'Andre Drummond': 16399.46105701114,\n",
       " 'JR Smith': 17852.610626505801,\n",
       " 'Kentavious Caldwell-Pope': 17503.88761278295,\n",
       " 'Kevin Love': 17717.418610339799,\n",
       " 'Kyrie Irving': 18007.276116227902,\n",
       " 'LeBron James': 17343.091684050829,\n",
       " 'Marcus Morris': 18021.836690089378,\n",
       " 'Reggie Jackson': 16010.067066034761,\n",
       " 'Tobias Harris': 16368.583132916268,\n",
       " 'Tristan Thompson': 16553.480925519776}"
      ]
     },
     "execution_count": 581,
     "metadata": {},
     "output_type": "execute_result"
    }
   ],
   "source": [
    "game_score_player"
   ]
  },
  {
   "cell_type": "markdown",
   "metadata": {},
   "source": [
    "# Metric 2: entropy metrics"
   ]
  },
  {
   "cell_type": "code",
   "execution_count": 596,
   "metadata": {
    "collapsed": false
   },
   "outputs": [],
   "source": [
    "import scipy\n",
    "import numpy as np\n",
    "import pandas as pd\n",
    "import math\n",
    "from scipy.stats import entropy\n",
    "\n",
    "def get_player_entropy(player_points):\n",
    "    '''\n",
    "    list of the points a player stood in\n",
    "    returns the entropy of places that a player covers\n",
    "    operates by folding the half-court on the basket\n",
    "    '''\n",
    "    folded_court_rep = []\n",
    "    for p in player_points:\n",
    "        if p[1] > 4:\n",
    "            p[1] = 4 - (p[1]-5)\n",
    "        folded_court_rep.append(str(p[0]) + str(p[1]))\n",
    "    probs = []\n",
    "    for u in set(folded_court_rep):\n",
    "        p_u = float(folded_court_rep.count(u)) / float(len(folded_court_rep))\n",
    "        probs.append(p_u)\n",
    "    return entropy(probs) \n",
    "\n",
    "\n",
    "def get_all_player_entropy(player_to_points):\n",
    "    '''\n",
    "    accepts a dictionary mapping player to the points they've stood in\n",
    "    returns a dictionary mapping player to entropy of that player's points\n",
    "    '''\n",
    "    player_to_entropy = {}\n",
    "    for p in player_to_points:\n",
    "        player_to_entropy[p] = get_player_entropy(player_to_points[p])\n",
    "    return player_to_entropy"
   ]
  },
  {
   "cell_type": "code",
   "execution_count": 584,
   "metadata": {
    "collapsed": false
   },
   "outputs": [
    {
     "data": {
      "text/plain": [
       "{'ball': [60.485130000000005, 38.396270000000001],\n",
       " 1610612739: [(30.189509999999999, 7.9699399999999994, 'JR Smith'),\n",
       "  (20.869050000000001, 47.918219999999998, 'Kyrie Irving'),\n",
       "  (34.619019999999992, 38.211870000000005, 'LeBron James'),\n",
       "  (28.253579999999999, 37.27487, 'Matthew Dellavedova'),\n",
       "  (24.908119999999997, 18.90042, 'Tristan Thompson')],\n",
       " 1610612765: [(13.665730000000011, 24.101779999999998, 'Andre Drummond'),\n",
       "  (15.40419, 40.850879999999997, 'Kentavious Caldwell-Pope'),\n",
       "  (20.349769999999992, 12.710239999999999, 'Marcus Morris'),\n",
       "  (28.584569999999999, 33.133299999999998, 'Stanley Johnson'),\n",
       "  (22.739509999999996, 30.560300000000002, 'Steve Blake')]}"
      ]
     },
     "execution_count": 584,
     "metadata": {},
     "output_type": "execute_result"
    }
   ],
   "source": [
    "frame_data"
   ]
  },
  {
   "cell_type": "code",
   "execution_count": 585,
   "metadata": {
    "collapsed": true
   },
   "outputs": [],
   "source": [
    "def transf_frame_data(frame_data, players, teams):\n",
    "    '''\n",
    "    transform data structure for entropy calculation\n",
    "    '''\n",
    "    new_data = {}\n",
    "    for player in players:\n",
    "        for team in teams:\n",
    "            for k in range(5):\n",
    "                raw_data = frame_data[team][k]"
   ]
  },
  {
   "cell_type": "code",
   "execution_count": 593,
   "metadata": {
    "collapsed": false
   },
   "outputs": [
    {
     "name": "stderr",
     "output_type": "stream",
     "text": [
      "  0%|          | 0/300 [00:00<?, ?it/s]/Users/Chengyu/anaconda3/lib/python3.5/site-packages/ipykernel/__main__.py:16: VisibleDeprecationWarning: converting an array with ndim > 0 to an index will result in an error in the future\n",
      "100%|██████████| 300/300 [00:01<00:00, 231.54it/s]\n"
     ]
    }
   ],
   "source": [
    "grid_centers, grid_vals = gen.get_midpoints_and_values()\n",
    "            \n",
    "player_spot_lst = {}\n",
    "for player in players:\n",
    "    player_spot_lst[player] = []\n",
    "\n",
    "entropy_stat = []\n",
    "for sample in tqdm(sample_rows):\n",
    "    frame_data = get_frame_data(df.iloc[sample], teams)\n",
    "    points = ds2points(frame_data, teams)\n",
    "    kdtree_orig = cKDTree(points)\n",
    "    for i in range(10):\n",
    "        for j in range(10):\n",
    "            center = grid_centers[i][j]\n",
    "            test_point_dist, test_point_regions = kdtree_orig.query(np.array(center).reshape((1,2)), k=1)\n",
    "            player = players[test_point_regions]\n",
    "            player_spot_lst[player].append([i,j])"
   ]
  },
  {
   "cell_type": "code",
   "execution_count": 597,
   "metadata": {
    "collapsed": false
   },
   "outputs": [
    {
     "data": {
      "text/plain": [
       "{'Andre Drummond': 3.6934732788915241,\n",
       " 'JR Smith': 3.8751497704295153,\n",
       " 'Kentavious Caldwell-Pope': 3.8749978107795542,\n",
       " 'Kevin Love': 3.8905072964556422,\n",
       " 'Kyrie Irving': 3.8852025633440435,\n",
       " 'LeBron James': 3.8932905331228298,\n",
       " 'Marcus Morris': 3.8640898689640215,\n",
       " 'Reggie Jackson': 3.8721031791284171,\n",
       " 'Tobias Harris': 3.8945519096433991,\n",
       " 'Tristan Thompson': 3.8740878218059867}"
      ]
     },
     "execution_count": 597,
     "metadata": {},
     "output_type": "execute_result"
    }
   ],
   "source": [
    "get_all_player_entropy(player_spot_lst)"
   ]
  },
  {
   "cell_type": "markdown",
   "metadata": {},
   "source": [
    "# Metric 3 Raw Land Value"
   ]
  },
  {
   "cell_type": "code",
   "execution_count": 603,
   "metadata": {
    "collapsed": true
   },
   "outputs": [],
   "source": [
    "import generate_spot_values as gen\n",
    "'''\n",
    "accepts a list of the indices in the values matrix that the player owns\n",
    "returns a summation of the value of the player's land\n",
    "'''\n",
    "def total_value_of_player_land(idxs):\n",
    "    pos_values = gen.gen_position_values()\n",
    "    total_val = 0.0\n",
    "    for idx in idxs:\n",
    "        total_val += pos_values[idx[0]][idx[1]]\n",
    "    return total_val  \n",
    "\n",
    "\n",
    "'''\n",
    "accepts a dictionary mapping player name to a list of the points they own\n",
    "returns a dictionary mapping player name to the total value of the points they own\n",
    "'''\n",
    "def all_players_land_value(players_dict):\n",
    "    player_to_value = {}\n",
    "    for p_name in players_dict:\n",
    "        p_land = players_dict[p_name]\n",
    "        player_to_value[p_name] = total_value_of_player_land(p_land)\n",
    "    return player_to_value"
   ]
  },
  {
   "cell_type": "code",
   "execution_count": 604,
   "metadata": {
    "collapsed": false
   },
   "outputs": [
    {
     "data": {
      "text/plain": [
       "{'Andre Drummond': 103785.8999999998,\n",
       " 'JR Smith': 120375.0999999995,\n",
       " 'Kentavious Caldwell-Pope': 110647.49999999939,\n",
       " 'Kevin Love': 116461.69999999943,\n",
       " 'Kyrie Irving': 122227.49999999965,\n",
       " 'LeBron James': 117621.69999999974,\n",
       " 'Marcus Morris': 115579.99999999946,\n",
       " 'Reggie Jackson': 115684.49999999921,\n",
       " 'Tobias Harris': 114495.89999999959,\n",
       " 'Tristan Thompson': 99340.1999999997}"
      ]
     },
     "execution_count": 604,
     "metadata": {},
     "output_type": "execute_result"
    }
   ],
   "source": [
    "all_players_land_value(player_spot_lst)"
   ]
  },
  {
   "cell_type": "code",
   "execution_count": null,
   "metadata": {
    "collapsed": true
   },
   "outputs": [],
   "source": []
  },
  {
   "cell_type": "code",
   "execution_count": null,
   "metadata": {
    "collapsed": true
   },
   "outputs": [],
   "source": []
  },
  {
   "cell_type": "code",
   "execution_count": null,
   "metadata": {
    "collapsed": true
   },
   "outputs": [],
   "source": []
  },
  {
   "cell_type": "code",
   "execution_count": null,
   "metadata": {
    "collapsed": true
   },
   "outputs": [],
   "source": []
  },
  {
   "cell_type": "code",
   "execution_count": null,
   "metadata": {
    "collapsed": true
   },
   "outputs": [],
   "source": []
  }
 ],
 "metadata": {
  "kernelspec": {
   "display_name": "Python 3",
   "language": "python",
   "name": "python3"
  },
  "language_info": {
   "codemirror_mode": {
    "name": "ipython",
    "version": 3
   },
   "file_extension": ".py",
   "mimetype": "text/x-python",
   "name": "python",
   "nbconvert_exporter": "python",
   "pygments_lexer": "ipython3",
   "version": "3.4.4"
  }
 },
 "nbformat": 4,
 "nbformat_minor": 0
}
